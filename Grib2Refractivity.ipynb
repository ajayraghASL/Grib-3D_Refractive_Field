{
 "cells": [
  {
   "cell_type": "markdown",
   "metadata": {},
   "source": [
    "###### Author: Ajay Ragh\n",
    "###### Data Source: https://www.ncmrwf.gov.in/data/\n",
    "###### Data Required: relative humidity,temperature,presure levels\n",
    "###### Input Data format: grib2\n",
    "###### Language: Python3\n",
    "###### Requirements: numpy,matplotlib,mpl_toolkits,pygrib"
   ]
  },
  {
   "cell_type": "code",
   "execution_count": 1,
   "metadata": {},
   "outputs": [],
   "source": [
    "import numpy as np\n",
    "import matplotlib.pyplot as plt\n",
    "import pygrib \n",
    "from mpl_toolkits.mplot3d import Axes3D\n",
    "import math\n",
    "import matplotlib.colors as mcolors"
   ]
  },
  {
   "cell_type": "code",
   "execution_count": 2,
   "metadata": {},
   "outputs": [],
   "source": [
    "relativehumidity = pygrib.open('Data/ncum_imdaa_reanl_HR_RH-prl_2018041912-2018041918.grb2')\n",
    "temperature = pygrib.open('Data/ncum_imdaa_reanl_HR_TMP-prl_2018041912-2018041918.grb2')"
   ]
  },
  {
   "cell_type": "markdown",
   "metadata": {},
   "source": [
    "###### Taking required data from the grib2 files and converting them into numpy arrays"
   ]
  },
  {
   "cell_type": "code",
   "execution_count": 3,
   "metadata": {},
   "outputs": [],
   "source": [
    "heat = []\n",
    "humid = []\n",
    "pressure = []\n",
    "for i in range(24):\n",
    "    grbtemp = temperature.select()[i]\n",
    "    grbrh = relativehumidity.select()[i]\n",
    "    pres = grbtemp.level\n",
    "    humid.append(grbrh.values)\n",
    "    heat.append(grbtemp.values)\n",
    "    pressure.append(pres)\n",
    "heat = np.array(heat)\n",
    "humid = np.array(humid)\n",
    "pressure = np.array(pressure)\n",
    "lats, lons = grbtemp.latlons()"
   ]
  },
  {
   "cell_type": "code",
   "execution_count": 4,
   "metadata": {},
   "outputs": [
    {
     "name": "stdout",
     "output_type": "stream",
     "text": [
      "(24, 8, 9)\n",
      "(24, 8, 9)\n",
      "(8, 9)\n",
      "(8, 9)\n",
      "[  10   20   30   50   70  100  150  200  250  300  400  500  600  700\n",
      "  750  800  825  850  875  900  925  950  975 1000]\n"
     ]
    }
   ],
   "source": [
    "print(heat.shape)\n",
    "print(humid.shape)\n",
    "print(lats.shape)\n",
    "print(lons.shape)\n",
    "print(pressure)\n",
    "pressure.shape\n",
    "np.savetxt('Outputs/latitudes.txt',lats)\n",
    "np.savetxt('Outputs/longitudes.txt',lons)"
   ]
  },
  {
   "cell_type": "markdown",
   "metadata": {},
   "source": [
    "###### Utilising hypsometric equation to convert pressure levels into altitude for reference. \n",
    "Note: Hypsometric equation does not provide accurate data above 11km above sea level. "
   ]
  },
  {
   "cell_type": "code",
   "execution_count": 5,
   "metadata": {},
   "outputs": [],
   "source": [
    "def hypsometric(pressure,heat):\n",
    "    height = []\n",
    "    for i in range(pressure.shape[0]):\n",
    "        p = pressure[i]\n",
    "        p0 = 1013.25\n",
    "        t = np.mean(heat[i])\n",
    "        h = ((((p0/p)**(1/5.257))-1)*t)/0.0065\n",
    "        h = h/1000\n",
    "        height.append(h)\n",
    "    return height"
   ]
  },
  {
   "cell_type": "code",
   "execution_count": 6,
   "metadata": {},
   "outputs": [],
   "source": [
    "altitude = hypsometric(pressure,heat)\n",
    "altitude\n",
    "np.savetxt('Outputs/altitude.txt',altitude)"
   ]
  },
  {
   "cell_type": "markdown",
   "metadata": {},
   "source": [
    "###### Functions for the required terms to calculate the refractive index. The equation used here is the equation for radiorefractivity provided by ITU in the document ITU-R P.453-14 (08/2019)"
   ]
  },
  {
   "cell_type": "code",
   "execution_count": 7,
   "metadata": {},
   "outputs": [],
   "source": [
    "def EF(p,t):\n",
    "    tc = t-273.15\n",
    "    ef = 1+(7.2+p*(0.0320+(5.9*10**(-6))*tc**2))\n",
    "    return ef\n",
    "def ES(p,t):\n",
    "    a = 6.1121\n",
    "    b = 18.678\n",
    "    c = 257.14\n",
    "    d = 234.5\n",
    "    tc = t-273.15\n",
    "    ef = EF(p,t)\n",
    "    es = ef*a*math.exp(((b-(tc/d))/(tc+c))*tc)\n",
    "    return es\n",
    "def E(h,p,t):\n",
    "    es = ES(p,t)\n",
    "    e = (h*es)/100\n",
    "    return e\n",
    "def N(h,p,t):\n",
    "    e = E(h,p,t)\n",
    "    n = 77.6*(p/t)-5.6*(e/t)+(3.75*10**5)*(e/t**2)\n",
    "    return n\n",
    "    "
   ]
  },
  {
   "cell_type": "code",
   "execution_count": 8,
   "metadata": {},
   "outputs": [
    {
     "name": "stdout",
     "output_type": "stream",
     "text": [
      "[[[1.00000334 1.00000334 1.00000334 ... 1.00000334 1.00000334 1.00000334]\n",
      "  [1.00000334 1.00000334 1.00000334 ... 1.00000334 1.00000334 1.00000334]\n",
      "  [1.00000334 1.00000334 1.00000334 ... 1.00000334 1.00000334 1.00000334]\n",
      "  ...\n",
      "  [1.00000334 1.00000334 1.00000334 ... 1.00000334 1.00000334 1.00000334]\n",
      "  [1.00000334 1.00000334 1.00000334 ... 1.00000334 1.00000334 1.00000335]\n",
      "  [1.00000334 1.00000334 1.00000334 ... 1.00000335 1.00000335 1.00000335]]\n",
      "\n",
      " [[1.00000686 1.00000686 1.00000686 ... 1.00000685 1.00000685 1.00000685]\n",
      "  [1.00000686 1.00000686 1.00000686 ... 1.00000685 1.00000685 1.00000685]\n",
      "  [1.00000685 1.00000685 1.00000685 ... 1.00000685 1.00000685 1.00000685]\n",
      "  ...\n",
      "  [1.00000685 1.00000685 1.00000685 ... 1.00000685 1.00000685 1.00000685]\n",
      "  [1.00000685 1.00000685 1.00000685 ... 1.00000685 1.00000685 1.00000684]\n",
      "  [1.00000685 1.00000685 1.00000685 ... 1.00000685 1.00000685 1.00000684]]\n",
      "\n",
      " [[1.00001049 1.00001049 1.0000105  ... 1.00001052 1.00001052 1.00001052]\n",
      "  [1.00001048 1.00001048 1.00001049 ... 1.0000105  1.00001051 1.00001052]\n",
      "  [1.00001048 1.00001048 1.00001048 ... 1.0000105  1.0000105  1.00001051]\n",
      "  ...\n",
      "  [1.00001048 1.00001048 1.00001048 ... 1.00001049 1.00001049 1.0000105 ]\n",
      "  [1.00001047 1.00001048 1.00001048 ... 1.00001049 1.00001049 1.0000105 ]\n",
      "  [1.00001047 1.00001048 1.00001048 ... 1.00001049 1.00001049 1.00001049]]\n",
      "\n",
      " ...\n",
      "\n",
      " [[1.00154083 1.00156701 1.0015786  ... 1.00146862 1.00145497 1.00146081]\n",
      "  [1.00152564 1.00154711 1.00153775 ... 1.00138095 1.00137873 1.00140313]\n",
      "  [1.00150378 1.00151792 1.00149681 ... 1.00131804 1.0013177  1.00133912]\n",
      "  ...\n",
      "  [1.00155588 1.00155282 1.00149159 ... 1.00117336 1.00117263 1.00121932]\n",
      "  [1.00158212 1.00155988 1.00151011 ... 1.00117253 1.00112725 1.00116294]\n",
      "  [1.00159812 1.00156978 1.00154343 ... 1.00119069 1.00110163 1.0010964 ]]\n",
      "\n",
      " [[1.00161662 1.00164672 1.00165186 ... 1.00153577 1.00152246 1.00153455]\n",
      "  [1.00159992 1.0016226  1.00161524 ... 1.00145084 1.00144944 1.0014892 ]\n",
      "  [1.00158039 1.00158665 1.00156867 ... 1.00138545 1.00138852 1.00142928]\n",
      "  ...\n",
      "  [1.00163645 1.0016273  1.00156775 ... 1.0012363  1.00124155 1.00128275]\n",
      "  [1.00166871 1.00164254 1.00159301 ... 1.00124113 1.00118253 1.00119792]\n",
      "  [1.00167975 1.00165505 1.00162607 ... 1.00124045 1.00113788 1.0011349 ]]\n",
      "\n",
      " [[1.00171838 1.00174032 1.00175248 ... 1.00163001 1.00161866 1.0016315 ]\n",
      "  [1.00169745 1.00171381 1.00171314 ... 1.00154147 1.00154754 1.00158928]\n",
      "  [1.00166826 1.00168636 1.00166951 ... 1.001474   1.00147945 1.0015256 ]\n",
      "  ...\n",
      "  [1.00173742 1.00173215 1.00166795 ... 1.00131867 1.00131958 1.00137472]\n",
      "  [1.0017642  1.00174066 1.0016893  ... 1.00131443 1.00126973 1.00130503]\n",
      "  [1.00178596 1.00175614 1.0017249  ... 1.00133327 1.00124117 1.00124048]]]\n"
     ]
    }
   ],
   "source": [
    "nfield = np.zeros_like(heat)\n",
    "for i in range(heat.shape[0]):\n",
    "    for j in range(heat.shape[1]):\n",
    "        for k in range(heat.shape[2]):\n",
    "            t = heat[i,j,k]\n",
    "            p = pressure[i]\n",
    "            h = humid[i,j,k]\n",
    "            Ni = N(h,p,t)\n",
    "            n = 1+(Ni*10**(-6))\n",
    "            nfield[i,j,k] = n\n",
    "print(nfield)\n",
    "for i in range(nfield.shape[0]):\n",
    "    np.savetxt('Outputs/nfield%01d.txt'%i,nfield[i])\n",
    "\n",
    "np.save('Outputs/atmospheric_refractive_index_model.npy',nfield)"
   ]
  },
  {
   "cell_type": "code",
   "execution_count": null,
   "metadata": {
    "scrolled": false
   },
   "outputs": [],
   "source": [
    "%matplotlib inline\n",
    "plt.rcParams['figure.figsize'] = [50,50]\n",
    "plt.rcParams['figure.dpi'] = 150\n",
    "\n",
    "for i in range(nfield.shape[0]):\n",
    "    plt.subplot(6,4,i+1)\n",
    "    plt.imshow(nfield[i])\n",
    "    plt.colorbar()\n",
    "    plt.title('layer%02d'%i+'altitude='+str(altitude[i])+'km')\n",
    "    plt.clim(nfield[i].min(),nfield[i].max())\n",
    "    plt.imsave('Outputs/nfield_layer%02d.png'%i,nfield[i])"
   ]
  },
  {
   "cell_type": "code",
   "execution_count": null,
   "metadata": {},
   "outputs": [],
   "source": [
    "print(nfield.max())\n",
    "print(nfield.min())\n"
   ]
  }
 ],
 "metadata": {
  "kernelspec": {
   "display_name": "Python 3",
   "language": "python",
   "name": "python3"
  },
  "language_info": {
   "codemirror_mode": {
    "name": "ipython",
    "version": 3
   },
   "file_extension": ".py",
   "mimetype": "text/x-python",
   "name": "python",
   "nbconvert_exporter": "python",
   "pygments_lexer": "ipython3",
   "version": "3.6.9"
  }
 },
 "nbformat": 4,
 "nbformat_minor": 2
}
